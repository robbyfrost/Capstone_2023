{
 "cells": [
  {
   "cell_type": "code",
   "execution_count": 1,
   "metadata": {},
   "outputs": [
    {
     "name": "stdout",
     "output_type": "stream",
     "text": [
      "\n",
      "## You are using the Python ARM Radar Toolkit (Py-ART), an open source\n",
      "## library for working with weather radar data. Py-ART is partly\n",
      "## supported by the U.S. Department of Energy as part of the Atmospheric\n",
      "## Radiation Measurement (ARM) Climate Research Facility, an Office of\n",
      "## Science user facility.\n",
      "##\n",
      "## If you use this software to prepare a publication, please cite:\n",
      "##\n",
      "##     JJ Helmus and SM Collis, JORS 2016, doi: 10.5334/jors.119\n",
      "\n"
     ]
    }
   ],
   "source": [
    "from capstone_utils import timeheight"
   ]
  },
  {
   "cell_type": "code",
   "execution_count": 2,
   "metadata": {},
   "outputs": [
    {
     "name": "stdout",
     "output_type": "stream",
     "text": [
      "28.3598331862025 28.36905015164001\n"
     ]
    },
    {
     "ename": "MissingDimensionsError",
     "evalue": "cannot set variable 'lat' with 2-dimensional data without explicit dimension names. Pass a tuple of (dims, data) instead.",
     "output_type": "error",
     "traceback": [
      "\u001b[0;31m---------------------------------------------------------------------------\u001b[0m",
      "\u001b[0;31mMissingDimensionsError\u001b[0m                    Traceback (most recent call last)",
      "\u001b[1;32m/Users/robertfrost/Documents/boomsoon/2023_semester_2/capstone/analysis/Capstone_2023/test.ipynb Cell 2\u001b[0m line \u001b[0;36m4\n\u001b[1;32m      <a href='vscode-notebook-cell:/Users/robertfrost/Documents/boomsoon/2023_semester_2/capstone/analysis/Capstone_2023/test.ipynb#W1sZmlsZQ%3D%3D?line=1'>2</a>\u001b[0m dtrack \u001b[39m=\u001b[39m \u001b[39m\"\u001b[39m\u001b[39m/Users/robertfrost/Documents/boomsoon/2023_semester_2/capstone/analysis/capstone_2023.nc\u001b[39m\u001b[39m\"\u001b[39m\n\u001b[1;32m      <a href='vscode-notebook-cell:/Users/robertfrost/Documents/boomsoon/2023_semester_2/capstone/analysis/Capstone_2023/test.ipynb#W1sZmlsZQ%3D%3D?line=2'>3</a>\u001b[0m meso_id \u001b[39m=\u001b[39m \u001b[39m\"\u001b[39m\u001b[39m201708-053\u001b[39m\u001b[39m\"\u001b[39m\n\u001b[0;32m----> <a href='vscode-notebook-cell:/Users/robertfrost/Documents/boomsoon/2023_semester_2/capstone/analysis/Capstone_2023/test.ipynb#W1sZmlsZQ%3D%3D?line=3'>4</a>\u001b[0m grid \u001b[39m=\u001b[39m timeheight(drad, dtrack, meso_id)\n",
      "File \u001b[0;32m~/Documents/boomsoon/2023_semester_2/capstone/analysis/Capstone_2023/capstone_utils.py:72\u001b[0m, in \u001b[0;36mtimeheight\u001b[0;34m(drad, dtrack, meso_id, radius)\u001b[0m\n\u001b[1;32m     70\u001b[0m \u001b[39mprint\u001b[39m(glat[\u001b[39m0\u001b[39m,\u001b[39m0\u001b[39m], glat[\u001b[39m1\u001b[39m,\u001b[39m0\u001b[39m])\n\u001b[1;32m     71\u001b[0m \u001b[39m# now xarray \u001b[39;00m\n\u001b[0;32m---> 72\u001b[0m grid_xr \u001b[39m=\u001b[39m xr\u001b[39m.\u001b[39;49mDataArray(grid_array, dims\u001b[39m=\u001b[39;49m(\u001b[39m'\u001b[39;49m\u001b[39mlat\u001b[39;49m\u001b[39m'\u001b[39;49m, \u001b[39m'\u001b[39;49m\u001b[39mlon\u001b[39;49m\u001b[39m'\u001b[39;49m),\n\u001b[1;32m     73\u001b[0m                        coords\u001b[39m=\u001b[39;49m{\u001b[39m'\u001b[39;49m\u001b[39mlat\u001b[39;49m\u001b[39m'\u001b[39;49m: glat, \u001b[39m'\u001b[39;49m\u001b[39mlon\u001b[39;49m\u001b[39m'\u001b[39;49m: glon})\n\u001b[1;32m     74\u001b[0m \u001b[39mreturn\u001b[39;00m grid_xr\n",
      "File \u001b[0;32m~/anaconda3/envs/radar/lib/python3.10/site-packages/xarray/core/dataarray.py:446\u001b[0m, in \u001b[0;36mDataArray.__init__\u001b[0;34m(self, data, coords, dims, name, attrs, indexes, fastpath)\u001b[0m\n\u001b[1;32m    444\u001b[0m data \u001b[39m=\u001b[39m _check_data_shape(data, coords, dims)\n\u001b[1;32m    445\u001b[0m data \u001b[39m=\u001b[39m as_compatible_data(data)\n\u001b[0;32m--> 446\u001b[0m coords, dims \u001b[39m=\u001b[39m _infer_coords_and_dims(data\u001b[39m.\u001b[39;49mshape, coords, dims)\n\u001b[1;32m    447\u001b[0m variable \u001b[39m=\u001b[39m Variable(dims, data, attrs, fastpath\u001b[39m=\u001b[39m\u001b[39mTrue\u001b[39;00m)\n\u001b[1;32m    449\u001b[0m \u001b[39mif\u001b[39;00m \u001b[39mnot\u001b[39;00m \u001b[39misinstance\u001b[39m(coords, Coordinates):\n",
      "File \u001b[0;32m~/anaconda3/envs/radar/lib/python3.10/site-packages/xarray/core/dataarray.py:186\u001b[0m, in \u001b[0;36m_infer_coords_and_dims\u001b[0;34m(shape, coords, dims)\u001b[0m\n\u001b[1;32m    184\u001b[0m \u001b[39mif\u001b[39;00m utils\u001b[39m.\u001b[39mis_dict_like(coords):\n\u001b[1;32m    185\u001b[0m     \u001b[39mfor\u001b[39;00m k, v \u001b[39min\u001b[39;00m coords\u001b[39m.\u001b[39mitems():\n\u001b[0;32m--> 186\u001b[0m         new_coords[k] \u001b[39m=\u001b[39m as_variable(v, name\u001b[39m=\u001b[39;49mk)\n\u001b[1;32m    187\u001b[0m \u001b[39melif\u001b[39;00m coords \u001b[39mis\u001b[39;00m \u001b[39mnot\u001b[39;00m \u001b[39mNone\u001b[39;00m:\n\u001b[1;32m    188\u001b[0m     \u001b[39mfor\u001b[39;00m dim, coord \u001b[39min\u001b[39;00m \u001b[39mzip\u001b[39m(dims, coords):\n",
      "File \u001b[0;32m~/anaconda3/envs/radar/lib/python3.10/site-packages/xarray/core/variable.py:147\u001b[0m, in \u001b[0;36mas_variable\u001b[0;34m(obj, name)\u001b[0m\n\u001b[1;32m    145\u001b[0m     data \u001b[39m=\u001b[39m as_compatible_data(obj)\n\u001b[1;32m    146\u001b[0m     \u001b[39mif\u001b[39;00m data\u001b[39m.\u001b[39mndim \u001b[39m!=\u001b[39m \u001b[39m1\u001b[39m:\n\u001b[0;32m--> 147\u001b[0m         \u001b[39mraise\u001b[39;00m MissingDimensionsError(\n\u001b[1;32m    148\u001b[0m             \u001b[39mf\u001b[39m\u001b[39m\"\u001b[39m\u001b[39mcannot set variable \u001b[39m\u001b[39m{\u001b[39;00mname\u001b[39m!r}\u001b[39;00m\u001b[39m with \u001b[39m\u001b[39m{\u001b[39;00mdata\u001b[39m.\u001b[39mndim\u001b[39m!r}\u001b[39;00m\u001b[39m-dimensional data \u001b[39m\u001b[39m\"\u001b[39m\n\u001b[1;32m    149\u001b[0m             \u001b[39m\"\u001b[39m\u001b[39mwithout explicit dimension names. Pass a tuple of \u001b[39m\u001b[39m\"\u001b[39m\n\u001b[1;32m    150\u001b[0m             \u001b[39m\"\u001b[39m\u001b[39m(dims, data) instead.\u001b[39m\u001b[39m\"\u001b[39m\n\u001b[1;32m    151\u001b[0m         )\n\u001b[1;32m    152\u001b[0m     obj \u001b[39m=\u001b[39m Variable(name, data, fastpath\u001b[39m=\u001b[39m\u001b[39mTrue\u001b[39;00m)\n\u001b[1;32m    153\u001b[0m \u001b[39melse\u001b[39;00m:\n",
      "\u001b[0;31mMissingDimensionsError\u001b[0m: cannot set variable 'lat' with 2-dimensional data without explicit dimension names. Pass a tuple of (dims, data) instead."
     ]
    }
   ],
   "source": [
    "drad = \"/Users/robertfrost/Documents/boomsoon/2023_semester_2/capstone/analysis/Capstone_2023/data/lightning_case1/\"\n",
    "dtrack = \"/Users/robertfrost/Documents/boomsoon/2023_semester_2/capstone/analysis/capstone_2023.nc\"\n",
    "meso_id = \"201708-053\"\n",
    "grid = timeheight(drad, dtrack, meso_id)"
   ]
  },
  {
   "cell_type": "code",
   "execution_count": null,
   "metadata": {},
   "outputs": [],
   "source": []
  }
 ],
 "metadata": {
  "kernelspec": {
   "display_name": "radar",
   "language": "python",
   "name": "python3"
  },
  "language_info": {
   "codemirror_mode": {
    "name": "ipython",
    "version": 3
   },
   "file_extension": ".py",
   "mimetype": "text/x-python",
   "name": "python",
   "nbconvert_exporter": "python",
   "pygments_lexer": "ipython3",
   "version": "3.10.13"
  }
 },
 "nbformat": 4,
 "nbformat_minor": 2
}
