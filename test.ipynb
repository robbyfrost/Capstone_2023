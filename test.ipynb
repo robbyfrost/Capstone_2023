{
 "cells": [
  {
   "cell_type": "code",
   "execution_count": 1,
   "metadata": {},
   "outputs": [
    {
     "name": "stdout",
     "output_type": "stream",
     "text": [
      "\n",
      "## You are using the Python ARM Radar Toolkit (Py-ART), an open source\n",
      "## library for working with weather radar data. Py-ART is partly\n",
      "## supported by the U.S. Department of Energy as part of the Atmospheric\n",
      "## Radiation Measurement (ARM) Climate Research Facility, an Office of\n",
      "## Science user facility.\n",
      "##\n",
      "## If you use this software to prepare a publication, please cite:\n",
      "##\n",
      "##     JJ Helmus and SM Collis, JORS 2016, doi: 10.5334/jors.119\n",
      "\n"
     ]
    }
   ],
   "source": [
    "from capstone_utils import timeheight"
   ]
  },
  {
   "cell_type": "code",
   "execution_count": 2,
   "metadata": {},
   "outputs": [
    {
     "ename": "ValueError",
     "evalue": "Dimensions {'mesocyclone_track_points'} do not exist. Expected one or more of Frozen({'z': 50, 'lat': 241, 'lon': 241})",
     "output_type": "error",
     "traceback": [
      "\u001b[0;31m---------------------------------------------------------------------------\u001b[0m",
      "\u001b[0;31mValueError\u001b[0m                                Traceback (most recent call last)",
      "\u001b[1;32m/Users/robertfrost/Documents/boomsoon/2023_semester_2/capstone/analysis/Capstone_2023/test.ipynb Cell 2\u001b[0m line \u001b[0;36m4\n\u001b[1;32m      <a href='vscode-notebook-cell:/Users/robertfrost/Documents/boomsoon/2023_semester_2/capstone/analysis/Capstone_2023/test.ipynb#W1sZmlsZQ%3D%3D?line=1'>2</a>\u001b[0m dtrack \u001b[39m=\u001b[39m \u001b[39m\"\u001b[39m\u001b[39m/Users/robertfrost/Documents/boomsoon/2023_semester_2/capstone/analysis/capstone_2023.nc\u001b[39m\u001b[39m\"\u001b[39m\n\u001b[1;32m      <a href='vscode-notebook-cell:/Users/robertfrost/Documents/boomsoon/2023_semester_2/capstone/analysis/Capstone_2023/test.ipynb#W1sZmlsZQ%3D%3D?line=2'>3</a>\u001b[0m meso_id \u001b[39m=\u001b[39m \u001b[39m\"\u001b[39m\u001b[39m201708-053\u001b[39m\u001b[39m\"\u001b[39m\n\u001b[0;32m----> <a href='vscode-notebook-cell:/Users/robertfrost/Documents/boomsoon/2023_semester_2/capstone/analysis/Capstone_2023/test.ipynb#W1sZmlsZQ%3D%3D?line=3'>4</a>\u001b[0m th \u001b[39m=\u001b[39m timeheight(drad, dtrack, meso_id)\n",
      "File \u001b[0;32m~/Documents/boomsoon/2023_semester_2/capstone/analysis/Capstone_2023/capstone_utils.py:107\u001b[0m, in \u001b[0;36mtimeheight\u001b[0;34m(drad, dtrack, meso_id)\u001b[0m\n\u001b[1;32m    105\u001b[0m radar_file \u001b[39m=\u001b[39m \u001b[39mf\u001b[39m\u001b[39m\"\u001b[39m\u001b[39m{\u001b[39;00mdrad\u001b[39m}\u001b[39;00m\u001b[39m{\u001b[39;00mrfiles[i]\u001b[39m}\u001b[39;00m\u001b[39m\"\u001b[39m\n\u001b[1;32m    106\u001b[0m \u001b[39m# masked radar data\u001b[39;00m\n\u001b[0;32m--> 107\u001b[0m ds, radar_time \u001b[39m=\u001b[39m cartesian_column(radar_file, dtrack, meso_id)\n\u001b[1;32m    108\u001b[0m \u001b[39m# horizontally average data\u001b[39;00m\n\u001b[1;32m    109\u001b[0m velocity[i] \u001b[39m=\u001b[39m ds\u001b[39m.\u001b[39mvelocity\u001b[39m.\u001b[39mmean(dim\u001b[39m=\u001b[39m(\u001b[39m\"\u001b[39m\u001b[39mlat\u001b[39m\u001b[39m\"\u001b[39m,\u001b[39m\"\u001b[39m\u001b[39mlon\u001b[39m\u001b[39m\"\u001b[39m))\n",
      "File \u001b[0;32m~/Documents/boomsoon/2023_semester_2/capstone/analysis/Capstone_2023/capstone_utils.py:82\u001b[0m, in \u001b[0;36mcartesian_column\u001b[0;34m(radar_file, dtrack, meso_id, radius)\u001b[0m\n\u001b[1;32m     80\u001b[0m mlat, mlon \u001b[39m=\u001b[39m case_meso\u001b[39m.\u001b[39mmesocyclone_latitude, case_meso\u001b[39m.\u001b[39mmesocyclone_longitude\n\u001b[1;32m     81\u001b[0m \u001b[39m# extract mesocyclone\u001b[39;00m\n\u001b[0;32m---> 82\u001b[0m meso_grid \u001b[39m=\u001b[39m ds\u001b[39m.\u001b[39;49mwhere(((ds\u001b[39m.\u001b[39;49mgrid_lat \u001b[39m-\u001b[39;49m mlat)\u001b[39m*\u001b[39;49m\u001b[39m*\u001b[39;49m\u001b[39m2\u001b[39;49m \u001b[39m+\u001b[39;49m (ds\u001b[39m.\u001b[39;49mgrid_lon \u001b[39m-\u001b[39;49m mlon)\u001b[39m*\u001b[39;49m\u001b[39m*\u001b[39;49m\u001b[39m2\u001b[39;49m) \u001b[39m<\u001b[39;49m radius\u001b[39m*\u001b[39;49m\u001b[39m*\u001b[39;49m\u001b[39m2\u001b[39;49m, drop\u001b[39m=\u001b[39;49m\u001b[39mTrue\u001b[39;49;00m)\n\u001b[1;32m     84\u001b[0m \u001b[39m# these should not be returned, just being used for testing\u001b[39;00m\n\u001b[1;32m     85\u001b[0m \u001b[39mreturn\u001b[39;00m meso_grid, radar_time\n",
      "File \u001b[0;32m~/anaconda3/envs/radar/lib/python3.10/site-packages/xarray/core/common.py:1181\u001b[0m, in \u001b[0;36mDataWithCoords.where\u001b[0;34m(self, cond, other, drop)\u001b[0m\n\u001b[1;32m   1178\u001b[0m     \u001b[39mfor\u001b[39;00m dim \u001b[39min\u001b[39;00m cond\u001b[39m.\u001b[39msizes\u001b[39m.\u001b[39mkeys():\n\u001b[1;32m   1179\u001b[0m         indexers[dim] \u001b[39m=\u001b[39m _get_indexer(dim)\n\u001b[0;32m-> 1181\u001b[0m     \u001b[39mself\u001b[39m \u001b[39m=\u001b[39m \u001b[39mself\u001b[39;49m\u001b[39m.\u001b[39;49misel(\u001b[39m*\u001b[39;49m\u001b[39m*\u001b[39;49mindexers)\n\u001b[1;32m   1182\u001b[0m     cond \u001b[39m=\u001b[39m cond\u001b[39m.\u001b[39misel(\u001b[39m*\u001b[39m\u001b[39m*\u001b[39mindexers)\n\u001b[1;32m   1184\u001b[0m \u001b[39mreturn\u001b[39;00m ops\u001b[39m.\u001b[39mwhere_method(\u001b[39mself\u001b[39m, cond, other)\n",
      "File \u001b[0;32m~/anaconda3/envs/radar/lib/python3.10/site-packages/xarray/core/dataset.py:2874\u001b[0m, in \u001b[0;36mDataset.isel\u001b[0;34m(self, indexers, drop, missing_dims, **indexers_kwargs)\u001b[0m\n\u001b[1;32m   2872\u001b[0m indexers \u001b[39m=\u001b[39m either_dict_or_kwargs(indexers, indexers_kwargs, \u001b[39m\"\u001b[39m\u001b[39misel\u001b[39m\u001b[39m\"\u001b[39m)\n\u001b[1;32m   2873\u001b[0m \u001b[39mif\u001b[39;00m \u001b[39many\u001b[39m(is_fancy_indexer(idx) \u001b[39mfor\u001b[39;00m idx \u001b[39min\u001b[39;00m indexers\u001b[39m.\u001b[39mvalues()):\n\u001b[0;32m-> 2874\u001b[0m     \u001b[39mreturn\u001b[39;00m \u001b[39mself\u001b[39;49m\u001b[39m.\u001b[39;49m_isel_fancy(indexers, drop\u001b[39m=\u001b[39;49mdrop, missing_dims\u001b[39m=\u001b[39;49mmissing_dims)\n\u001b[1;32m   2876\u001b[0m \u001b[39m# Much faster algorithm for when all indexers are ints, slices, one-dimensional\u001b[39;00m\n\u001b[1;32m   2877\u001b[0m \u001b[39m# lists, or zero or one-dimensional np.ndarray's\u001b[39;00m\n\u001b[1;32m   2878\u001b[0m indexers \u001b[39m=\u001b[39m drop_dims_from_indexers(indexers, \u001b[39mself\u001b[39m\u001b[39m.\u001b[39mdims, missing_dims)\n",
      "File \u001b[0;32m~/anaconda3/envs/radar/lib/python3.10/site-packages/xarray/core/dataset.py:2917\u001b[0m, in \u001b[0;36mDataset._isel_fancy\u001b[0;34m(self, indexers, drop, missing_dims)\u001b[0m\n\u001b[1;32m   2910\u001b[0m \u001b[39mdef\u001b[39;00m \u001b[39m_isel_fancy\u001b[39m(\n\u001b[1;32m   2911\u001b[0m     \u001b[39mself\u001b[39m: T_Dataset,\n\u001b[1;32m   2912\u001b[0m     indexers: Mapping[Any, Any],\n\u001b[0;32m   (...)\u001b[0m\n\u001b[1;32m   2915\u001b[0m     missing_dims: ErrorOptionsWithWarn \u001b[39m=\u001b[39m \u001b[39m\"\u001b[39m\u001b[39mraise\u001b[39m\u001b[39m\"\u001b[39m,\n\u001b[1;32m   2916\u001b[0m ) \u001b[39m-\u001b[39m\u001b[39m>\u001b[39m T_Dataset:\n\u001b[0;32m-> 2917\u001b[0m     valid_indexers \u001b[39m=\u001b[39m \u001b[39mdict\u001b[39;49m(\u001b[39mself\u001b[39;49m\u001b[39m.\u001b[39;49m_validate_indexers(indexers, missing_dims))\n\u001b[1;32m   2919\u001b[0m     variables: \u001b[39mdict\u001b[39m[Hashable, Variable] \u001b[39m=\u001b[39m {}\n\u001b[1;32m   2920\u001b[0m     indexes, index_variables \u001b[39m=\u001b[39m isel_indexes(\u001b[39mself\u001b[39m\u001b[39m.\u001b[39mxindexes, valid_indexers)\n",
      "File \u001b[0;32m~/anaconda3/envs/radar/lib/python3.10/site-packages/xarray/core/dataset.py:2670\u001b[0m, in \u001b[0;36mDataset._validate_indexers\u001b[0;34m(self, indexers, missing_dims)\u001b[0m\n\u001b[1;32m   2667\u001b[0m \u001b[39mfrom\u001b[39;00m \u001b[39mxarray\u001b[39;00m\u001b[39m.\u001b[39;00m\u001b[39mcoding\u001b[39;00m\u001b[39m.\u001b[39;00m\u001b[39mcftimeindex\u001b[39;00m \u001b[39mimport\u001b[39;00m CFTimeIndex\n\u001b[1;32m   2668\u001b[0m \u001b[39mfrom\u001b[39;00m \u001b[39mxarray\u001b[39;00m\u001b[39m.\u001b[39;00m\u001b[39mcore\u001b[39;00m\u001b[39m.\u001b[39;00m\u001b[39mdataarray\u001b[39;00m \u001b[39mimport\u001b[39;00m DataArray\n\u001b[0;32m-> 2670\u001b[0m indexers \u001b[39m=\u001b[39m drop_dims_from_indexers(indexers, \u001b[39mself\u001b[39;49m\u001b[39m.\u001b[39;49mdims, missing_dims)\n\u001b[1;32m   2672\u001b[0m \u001b[39m# all indexers should be int, slice, np.ndarrays, or Variable\u001b[39;00m\n\u001b[1;32m   2673\u001b[0m \u001b[39mfor\u001b[39;00m k, v \u001b[39min\u001b[39;00m indexers\u001b[39m.\u001b[39mitems():\n",
      "File \u001b[0;32m~/anaconda3/envs/radar/lib/python3.10/site-packages/xarray/core/utils.py:858\u001b[0m, in \u001b[0;36mdrop_dims_from_indexers\u001b[0;34m(indexers, dims, missing_dims)\u001b[0m\n\u001b[1;32m    856\u001b[0m     invalid \u001b[39m=\u001b[39m indexers\u001b[39m.\u001b[39mkeys() \u001b[39m-\u001b[39m \u001b[39mset\u001b[39m(dims)\n\u001b[1;32m    857\u001b[0m     \u001b[39mif\u001b[39;00m invalid:\n\u001b[0;32m--> 858\u001b[0m         \u001b[39mraise\u001b[39;00m \u001b[39mValueError\u001b[39;00m(\n\u001b[1;32m    859\u001b[0m             \u001b[39mf\u001b[39m\u001b[39m\"\u001b[39m\u001b[39mDimensions \u001b[39m\u001b[39m{\u001b[39;00minvalid\u001b[39m}\u001b[39;00m\u001b[39m do not exist. Expected one or more of \u001b[39m\u001b[39m{\u001b[39;00mdims\u001b[39m}\u001b[39;00m\u001b[39m\"\u001b[39m\n\u001b[1;32m    860\u001b[0m         )\n\u001b[1;32m    862\u001b[0m     \u001b[39mreturn\u001b[39;00m indexers\n\u001b[1;32m    864\u001b[0m \u001b[39melif\u001b[39;00m missing_dims \u001b[39m==\u001b[39m \u001b[39m\"\u001b[39m\u001b[39mwarn\u001b[39m\u001b[39m\"\u001b[39m:\n\u001b[1;32m    865\u001b[0m     \u001b[39m# don't modify input\u001b[39;00m\n",
      "\u001b[0;31mValueError\u001b[0m: Dimensions {'mesocyclone_track_points'} do not exist. Expected one or more of Frozen({'z': 50, 'lat': 241, 'lon': 241})"
     ]
    }
   ],
   "source": [
    "drad = \"/Users/robertfrost/Documents/boomsoon/2023_semester_2/capstone/analysis/Capstone_2023/data/lightning_case1/\"\n",
    "dtrack = \"/Users/robertfrost/Documents/boomsoon/2023_semester_2/capstone/analysis/capstone_2023.nc\"\n",
    "meso_id = \"201708-053\"\n",
    "th = timeheight(drad, dtrack, meso_id)"
   ]
  },
  {
   "cell_type": "code",
   "execution_count": null,
   "metadata": {},
   "outputs": [],
   "source": [
    "th"
   ]
  },
  {
   "cell_type": "code",
   "execution_count": null,
   "metadata": {},
   "outputs": [],
   "source": [
    "import matplotlib.pyplot as plt\n",
    "\n",
    "fig, ax = plt.subplots()\n",
    "\n",
    "ax.pcolormesh(grid.grid_lon, grid.grid_lat, grid.reflectivity[0], cmap=\"pyart_HomeyerRainbow\")"
   ]
  },
  {
   "cell_type": "code",
   "execution_count": null,
   "metadata": {},
   "outputs": [],
   "source": []
  }
 ],
 "metadata": {
  "kernelspec": {
   "display_name": "radar",
   "language": "python",
   "name": "python3"
  },
  "language_info": {
   "codemirror_mode": {
    "name": "ipython",
    "version": 3
   },
   "file_extension": ".py",
   "mimetype": "text/x-python",
   "name": "python",
   "nbconvert_exporter": "python",
   "pygments_lexer": "ipython3",
   "version": "3.10.13"
  }
 },
 "nbformat": 4,
 "nbformat_minor": 2
}
