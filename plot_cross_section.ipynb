{
 "cells": [
  {
   "cell_type": "markdown",
   "metadata": {},
   "source": [
    "# plot_cross_sections.ipynb\n",
    "\n",
    "Author: Savannah J. Southward and Robert M. Frost\n",
    "\n",
    "University of Oklahoma\n",
    "\n",
    "Created 02 November 2023\n",
    "\n",
    "Purpose: Plot vertical cross sections of reflectivity through supercell updrafts"
   ]
  },
  {
   "cell_type": "code",
   "execution_count": 1,
   "metadata": {},
   "outputs": [
    {
     "name": "stdout",
     "output_type": "stream",
     "text": [
      "\n",
      "## You are using the Python ARM Radar Toolkit (Py-ART), an open source\n",
      "## library for working with weather radar data. Py-ART is partly\n",
      "## supported by the U.S. Department of Energy as part of the Atmospheric\n",
      "## Radiation Measurement (ARM) Climate Research Facility, an Office of\n",
      "## Science user facility.\n",
      "##\n",
      "## If you use this software to prepare a publication, please cite:\n",
      "##\n",
      "##     JJ Helmus and SM Collis, JORS 2016, doi: 10.5334/jors.119\n",
      "\n"
     ]
    }
   ],
   "source": [
    "import numpy as np\n",
    "import xarray as xr\n",
    "import pyart\n",
    "import matplotlib.pyplot as plt\n",
    "import cartopy.crs as ccrs\n",
    "from capstone_utils import geographic_to_cartesian_aeqd\n",
    "import os"
   ]
  },
  {
   "cell_type": "code",
   "execution_count": 2,
   "metadata": {},
   "outputs": [],
   "source": [
    "drad = \"/Users/robertfrost/Documents/boomsoon/2023_semester_2/capstone/analysis/Capstone_2023/data/nonlightning_case1/\"\n",
    "dnc = \"/Users/robertfrost/Documents/boomsoon/2023_semester_2/capstone/analysis/capstone_2023.nc\"\n",
    "figdir = \"/Users/robertfrost/Documents/boomsoon/2023_semester_2/capstone/analysis/figures/nonlightning_case1/\"\n",
    "\n",
    "meso_id = \"201708-056\"\n",
    "track_point = 10"
   ]
  },
  {
   "cell_type": "code",
   "execution_count": 3,
   "metadata": {},
   "outputs": [],
   "source": [
    "# list of files in drad and sort\n",
    "files = os.listdir(drad)\n",
    "sorted_files = sorted(files)\n",
    "\n",
    "# open desired radar file\n",
    "radar = pyart.io.read(f\"{drad}{sorted_files[track_point]}\")\n",
    "\n",
    "# extract radar position\n",
    "radar_lat = radar.latitude['data'][0]\n",
    "radar_lon = radar.longitude['data'][0]\n",
    "\n",
    "# mask out last 10 gates of each ray, this removes the \"ring\" around the radar.\n",
    "radar.fields[\"reflectivity\"][\"data\"][:, -10:] = np.ma.masked\n",
    "\n",
    "# exclude masked gates from the gridding\n",
    "gatefilter = pyart.filters.GateFilter(radar)\n",
    "gatefilter.exclude_transition()\n",
    "gatefilter.exclude_masked(\"reflectivity\")\n",
    "\n",
    "# grid data to cartesian format\n",
    "grid = pyart.map.grid_from_radars(\n",
    "    (radar,),\n",
    "    gatefilters=(gatefilter,),\n",
    "    grid_shape=(1, 241, 241),\n",
    "    grid_limits=((2000, 2000), (-123000.0, 123000.0), (-123000.0, 123000.0)),\n",
    "    fields=[\"reflectivity\", \"velocity\"],\n",
    ")"
   ]
  },
  {
   "cell_type": "markdown",
   "metadata": {},
   "source": [
    "### Testing kdp stuff"
   ]
  },
  {
   "cell_type": "code",
   "execution_count": 12,
   "metadata": {},
   "outputs": [
    {
     "name": "stderr",
     "output_type": "stream",
     "text": [
      "/Users/robertfrost/anaconda3/envs/radar/lib/python3.10/site-packages/numpy/core/fromnumeric.py:771: UserWarning: Warning: 'partition' will ignore the 'mask' of the MaskedArray.\n",
      "  a.partition(kth, axis=axis, kind=kind, order=order)\n"
     ]
    }
   ],
   "source": [
    "kdp = pyart.retrieve.kdp_maesaka(radar, gatefilter=gatefilter, method='cg', backscatter=None, Clpf=1.0, length_scale=None, first_guess=0.01, finite_order='low', fill_value=None, proc=1, psidp_field=None, kdp_field=None, phidp_field=None, debug=False, verbose=False)"
   ]
  },
  {
   "cell_type": "code",
   "execution_count": null,
   "metadata": {},
   "outputs": [],
   "source": [
    "# open tracking dataset\n",
    "meso_ds = xr.open_dataset(dnc)\n",
    "\n",
    "# extract mesocyclone case and convert longitude\n",
    "case_meso = meso_ds.where(meso_ds.mesocyclone_id == meso_id, drop=True)\n",
    "case_meso[\"mesocyclone_longitude\"] = case_meso.mesocyclone_longitude - 360\n",
    "\n",
    "# extract mesocyclone location\n",
    "meso_lat = float(case_meso.mesocyclone_latitude[track_point])\n",
    "meso_lon = float(case_meso.mesocyclone_longitude[track_point])\n",
    "\n",
    "# return meso location in x and y position relative to radar\n",
    "meso_x, meso_y = geographic_to_cartesian_aeqd(meso_lon, meso_lat, radar_lon, radar_lat)\n",
    "\n",
    "# calculate meso distance from radar\n",
    "meso_dis = (meso_x ** 2 + meso_y **2) ** (1/2)\n",
    "\n",
    "# calculate azimuth where meso lies\n",
    "az = np.degrees(np.arctan2(meso_x, meso_y))\n",
    "if az < 0:\n",
    "    az = int(360 + az)"
   ]
  },
  {
   "cell_type": "code",
   "execution_count": null,
   "metadata": {},
   "outputs": [],
   "source": [
    "# spatial bounds (lat/lon) for plotting\n",
    "del_deg = 0.2\n",
    "lon_min = meso_lon - del_deg\n",
    "lon_max = meso_lon + del_deg\n",
    "lat_min = meso_lat - del_deg\n",
    "lat_max = meso_lat + del_deg\n",
    "\n",
    "# Setup the figure, and plot our x/y view of the radar\n",
    "fig = plt.figure(figsize=(18, 6))\n",
    "ax1 = plt.subplot(121, projection=ccrs.PlateCarree())\n",
    "display = pyart.graph.GridMapDisplay(grid)\n",
    "display.plot_grid(\n",
    "    \"reflectivity\",\n",
    "    ax=ax1,\n",
    "    cmap=\"pyart_NWSRef\",\n",
    "    vmin=-20,\n",
    "    vmax=75\n",
    ")\n",
    "# zoom in on mesocyclone\n",
    "ax1.set_extent([lon_min, lon_max, lat_min, lat_max], crs=ccrs.PlateCarree())\n",
    "# mark center of mesocyclone\n",
    "ax1.plot(meso_lon, meso_lat, marker='*', markersize=10, color='black')\n",
    "\n",
    "# Add a cross section, using our start and end points, and set our x-axis as latitude (lat)\n",
    "ax2 = plt.subplot(122)\n",
    "ax2.set_ylim([0,20])\n",
    "ax2.set_xlim([meso_dis/1000 - 10, meso_dis/1000 + 10])\n",
    "xsect = pyart.util.cross_section_ppi(radar,[az])\n",
    "display = pyart.graph.RadarDisplay(xsect)\n",
    "display.plot(\n",
    "    \"reflectivity\",\n",
    "    cmap=\"pyart_NWSRef\",\n",
    "    vmin=-20,\n",
    "    vmax=75) \n",
    "\n",
    "# save figure\n",
    "plt.savefig(f\"{figdir}{sorted_files[track_point]}_reflectivity_cross_section.png\")"
   ]
  },
  {
   "cell_type": "code",
   "execution_count": null,
   "metadata": {},
   "outputs": [],
   "source": [
    "# from capstone_utils import make_gif\n",
    "# make_gif(figdir, f\"{figdir}reflectivity_cross_section.gif\")"
   ]
  },
  {
   "cell_type": "code",
   "execution_count": null,
   "metadata": {},
   "outputs": [],
   "source": []
  }
 ],
 "metadata": {
  "kernelspec": {
   "display_name": "radar",
   "language": "python",
   "name": "python3"
  },
  "language_info": {
   "codemirror_mode": {
    "name": "ipython",
    "version": 3
   },
   "file_extension": ".py",
   "mimetype": "text/x-python",
   "name": "python",
   "nbconvert_exporter": "python",
   "pygments_lexer": "ipython3",
   "version": "3.10.13"
  }
 },
 "nbformat": 4,
 "nbformat_minor": 2
}
